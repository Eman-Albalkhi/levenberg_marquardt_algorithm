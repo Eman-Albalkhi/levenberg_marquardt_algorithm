{
 "cells": [
  {
   "cell_type": "code",
   "execution_count": 1,
   "metadata": {},
   "outputs": [],
   "source": [
    "from scipy.io import loadmat\n",
    "from sklearn.preprocessing import OneHotEncoder\n",
    "from sklearn.datasets import make_blobs\n",
    "from sklearn.model_selection import train_test_split\n",
    "import numpy as np\n",
    "import matplotlib.pyplot as plt\n",
    "import pandas as pd\n",
    "import copy\n",
    "import matplotlib.pyplot as plt\n",
    "%matplotlib inline"
   ]
  },
  {
   "cell_type": "code",
   "execution_count": 2,
   "metadata": {},
   "outputs": [
    {
     "data": {
      "text/plain": [
       "(2, 100)"
      ]
     },
     "execution_count": 2,
     "metadata": {},
     "output_type": "execute_result"
    }
   ],
   "source": [
    "data=pd.read_csv(\"data.txt\")\n",
    "X=data.iloc[:,:-1].values.T\n",
    "y=data.iloc[:,[2]].T\n",
    "X=np.array(X)\n",
    "y=np.array(y)\n",
    "#np.squeeze(X).shape\n",
    "(a,b)=X.shape\n",
    "(a,b)\n"
   ]
  },
  {
   "cell_type": "code",
   "execution_count": 3,
   "metadata": {},
   "outputs": [],
   "source": [
    "def split_data(X,y,data_split_ratio):\n",
    "    m=X.shape[1]\n",
    "    arr=np.array(list(range(m)))\n",
    "    np.random.shuffle(arr)\n",
    "    train_arr=arr[range(int(np.floor((1-data_split_ratio)*m)))]\n",
    "    test_arr=arr[range(int(np.floor((1-data_split_ratio)*m)),m)]\n",
    "    X_train=X[:,train_arr]\n",
    "    y_train=y[:,train_arr]\n",
    "    X_test=X[:,test_arr]\n",
    "    y_test=y[:,test_arr]\n",
    "    return (X_train,y_train,X_test,y_test)\n"
   ]
  },
  {
   "cell_type": "code",
   "execution_count": 4,
   "metadata": {},
   "outputs": [
    {
     "data": {
      "text/plain": [
       "(array([[89.84580671, 35.84740877, 56.2538175 , 60.45555629, 34.18364003,\n",
       "         54.63510555, 61.37928945, 35.28611282, 51.04775177, 90.54671411,\n",
       "         49.07256322, 94.83450672, 44.66826172, 74.24869137, 61.83020602,\n",
       "         82.36875376, 69.36458876, 80.19018075, 30.05882245, 71.79646206,\n",
       "         68.46852179, 62.27101367, 84.43281996, 75.01365839, 90.44855097,\n",
       "         83.48916274, 64.17698887, 50.28649612, 78.63542435, 50.4581598 ,\n",
       "         57.23870632, 67.94685548, 82.30705337, 61.10666454, 52.10797973,\n",
       "         60.45788574, 32.57720017, 89.67677575, 95.86155507, 79.03273605,\n",
       "         99.31500881, 52.04540477, 74.775893  , 75.39561147, 85.40451939,\n",
       "         33.91550011, 82.22666158, 99.27252693, 55.48216114, 94.09433113],\n",
       "        [45.35828361, 72.90219803, 39.26147251, 42.50840944, 75.23772034,\n",
       "         52.21388588, 72.80788731, 47.02051395, 45.82270146, 43.39060181,\n",
       "         51.88321182, 45.6943068 , 66.45008615, 69.82457123, 50.25610789,\n",
       "         40.61825516, 97.71869196, 44.82162893, 49.59297387, 78.45356225,\n",
       "         85.5943071 , 69.95445795, 43.53339331, 30.60326323, 87.50879176,\n",
       "         48.3802858 , 80.90806059, 49.80453881, 96.64742717, 75.80985953,\n",
       "         59.51428198, 46.67857411, 76.4819633 , 96.51142588, 63.12762377,\n",
       "         73.0949981 , 95.59854761, 65.79936593, 38.22527806, 75.34437644,\n",
       "         68.77540947, 69.43286012, 89.5298129 , 85.75993667, 57.05198398,\n",
       "         98.86943574, 42.71987854, 60.999031  , 35.57070347, 77.15910509]]),\n",
       " array([[1, 0, 0, 0, 0, 0, 1, 0, 0, 1, 0, 1, 0, 1, 0, 0, 1, 1, 0, 1, 1, 1,\n",
       "         1, 0, 1, 1, 1, 0, 1, 1, 1, 0, 1, 1, 0, 1, 0, 1, 0, 1, 1, 1, 1, 1,\n",
       "         1, 0, 0, 1, 0, 1]], dtype=int64),\n",
       " array([[45.08327748, 40.45755098, 88.91389642, 99.8278578 , 40.23689374,\n",
       "         66.56089447, 30.28671077, 52.34800399, 76.0987867 , 39.53833914,\n",
       "         75.47770201, 58.84095622, 97.77159928, 75.02474557, 62.22267576,\n",
       "         69.07014406, 60.18259939, 67.37202755, 42.26170081, 49.58667722,\n",
       "         97.64563396, 72.34649423, 53.97105215, 91.5649745 , 64.03932042,\n",
       "         77.19303493, 83.90239366, 62.0730638 , 80.366756  , 94.44336777,\n",
       "         80.27957401, 76.97878373, 67.31925747, 93.1143888 , 38.7858038 ,\n",
       "         34.52451385, 42.07545454, 47.26426911, 51.54772027, 50.53478829,\n",
       "         79.94481794, 66.74671857, 55.34001756, 70.66150955, 74.775893  ,\n",
       "         34.21206098, 74.49269242, 74.78925296, 32.72283304, 77.92409145],\n",
       "        [56.31637178, 97.53518549, 69.8037889 , 72.36925193, 71.16774802,\n",
       "         41.09209808, 43.89499752, 60.76950526, 87.42056972, 76.03681085,\n",
       "         90.424539  , 75.85844831, 86.72782233, 46.55401354, 52.06099195,\n",
       "         52.74046973, 86.3085521 , 42.83843832, 87.10385094, 59.80895099,\n",
       "         68.86157272, 96.22759297, 89.20735014, 88.69629255, 78.03168802,\n",
       "         70.4582    , 56.30804622, 96.76882412, 90.9601479 , 65.56892161,\n",
       "         92.11606081, 47.57596365, 66.58935318, 38.80067034, 64.99568096,\n",
       "         60.39634246, 78.844786  , 88.475865  , 46.85629026, 48.85581153,\n",
       "         74.16311935, 60.99139403, 64.93193801, 92.92713789, 89.5298129 ,\n",
       "         44.2095286 , 84.84513685, 41.57341523, 43.30717306, 68.97235999]]),\n",
       " array([[0, 1, 1, 1, 0, 0, 0, 0, 1, 0, 1, 1, 1, 1, 0, 1, 1, 0, 1, 0, 1, 1,\n",
       "         1, 1, 1, 1, 1, 1, 1, 1, 1, 1, 1, 0, 0, 0, 0, 1, 0, 0, 1, 1, 1, 1,\n",
       "         1, 0, 1, 0, 0, 1]], dtype=int64))"
      ]
     },
     "execution_count": 4,
     "metadata": {},
     "output_type": "execute_result"
    }
   ],
   "source": [
    "split_data(X,y,0.5)"
   ]
  },
  {
   "cell_type": "code",
   "execution_count": 5,
   "metadata": {},
   "outputs": [],
   "source": [
    "def sigmoid(z,derivative=False):\n",
    "    a=1.0/(1.0+np.exp(-z))\n",
    "    if(derivative):\n",
    "        return np.multiply(a,(1-a))\n",
    "    return a"
   ]
  },
  {
   "cell_type": "code",
   "execution_count": 6,
   "metadata": {},
   "outputs": [],
   "source": [
    "def tanh(z,derivative=False):\n",
    "    a=(np.exp(z)-np.exp(-z))/(np.exp(z)+np.exp(-z))\n",
    "    if(derivative):\n",
    "        return 1-np.power(a,2)\n",
    "    return a\n"
   ]
  },
  {
   "cell_type": "code",
   "execution_count": 7,
   "metadata": {},
   "outputs": [],
   "source": [
    "def relu(z,derivative=False):\n",
    "    if(derivative):\n",
    "        return np.array([list(map(lambda x:int(x>=0),item)) for item in z])\n",
    "    return np.array([list(map(lambda x:max(x,0),item)) for item in z])"
   ]
  },
  {
   "cell_type": "code",
   "execution_count": 8,
   "metadata": {},
   "outputs": [],
   "source": [
    "def leaky_relu(z,derivative=False):\n",
    "    if(derivative):\n",
    "        return np.array([list(map(lambda x:0.01 if x<0 else 1,item)) for item in z])\n",
    "    return np.array([list(map(lambda x:max(x,0.01*x),item)) for item in z])"
   ]
  },
  {
   "cell_type": "code",
   "execution_count": 9,
   "metadata": {},
   "outputs": [],
   "source": [
    "def softmax(z):\n",
    "    A=np.zeros(z.shape)\n",
    "    m=z.shape[1]\n",
    "    for i in range(m):\n",
    "        A[:,i]=np.divide(np.exp(z[:,i]),np.sum(np.exp(z[:,i])))\n",
    "    return A"
   ]
  },
  {
   "cell_type": "code",
   "execution_count": 10,
   "metadata": {},
   "outputs": [],
   "source": [
    "\n",
    "def activation_Function(z,name_activation_function,derivative=False):\n",
    "    if(name_activation_function==\"sigmoid\"):\n",
    "        return sigmoid(z,derivative)\n",
    "    elif(name_activation_function==\"tanh\"):\n",
    "        return tanh(z,derivative)\n",
    "    elif(name_activation_function==\"relu\"):\n",
    "        return relu(z,derivative)\n",
    "    elif(name_activation_function==\"leaky_relu\"):\n",
    "        return leaky_relu(z,derivative)\n",
    "    elif(name_activation_function==\"softmax\"):\n",
    "        return softmax(z)\n",
    "    else:\n",
    "        return z"
   ]
  },
  {
   "cell_type": "code",
   "execution_count": 11,
   "metadata": {},
   "outputs": [],
   "source": [
    "# cost functions"
   ]
  },
  {
   "cell_type": "code",
   "execution_count": 12,
   "metadata": {},
   "outputs": [],
   "source": [
    "def mse(y,A):\n",
    "    (t,m)=y.shape\n",
    "    return np.multiply((1.0/m),(np.sum(np.power((y-A),2),1)))"
   ]
  },
  {
   "cell_type": "code",
   "execution_count": 13,
   "metadata": {},
   "outputs": [],
   "source": [
    "def mae(y,A):\n",
    "    (t,m)=y.shape\n",
    "    return np.multiply((1.0/m),(np.sum(np.abs((y-A),2))))"
   ]
  },
  {
   "cell_type": "code",
   "execution_count": 14,
   "metadata": {},
   "outputs": [],
   "source": [
    "def cross_entropy_cost(y,A):\n",
    "    (t,m)=y.shape\n",
    "    return  np.multiply(-1.0/m,np.sum(np.multiply(y, np.log(A)) + \n",
    "                                      np.multiply((1 - y), np.log(1 - A))))"
   ]
  },
  {
   "cell_type": "code",
   "execution_count": 15,
   "metadata": {},
   "outputs": [],
   "source": [
    "def cost_functions(y,A,name_cost_function):\n",
    "    if(name_cost_function==\"mse\"):\n",
    "        return mse(y,A)\n",
    "    elif(name_cost_function==\"mae\"):\n",
    "        return mae(y,A)\n",
    "    else:\n",
    "        return cross_entropy_cost(y,A)"
   ]
  },
  {
   "cell_type": "code",
   "execution_count": 16,
   "metadata": {},
   "outputs": [],
   "source": [
    "#accuracy function\n",
    "#problem_type:(Multi class classification, Regression, binary classification )"
   ]
  },
  {
   "cell_type": "code",
   "execution_count": 17,
   "metadata": {},
   "outputs": [],
   "source": [
    "def calculate_accuracy(y,A,problem_type):\n",
    "    if(problem_type==\"Multi_class_classification\"):\n",
    "         A=np.argmax(A,axis=0).reshape(A.shape[1],1).T\n",
    "         y=np.argmax(y,axis=0).reshape(y.shape[1],1).T\n",
    "    (t,m)=y.shape\n",
    "    return np.squeeze(((m-np.sum(np.abs(y-A),1))/m)*100)"
   ]
  },
  {
   "cell_type": "code",
   "execution_count": 18,
   "metadata": {},
   "outputs": [],
   "source": [
    "def unroll(listt):\n",
    "    return listt.ravel()"
   ]
  },
  {
   "cell_type": "code",
   "execution_count": 19,
   "metadata": {},
   "outputs": [],
   "source": [
    "class neural_network:\n",
    "    def __init__(self):\n",
    "        self.network_hyperParameters={}\n",
    "        self.network_parameters={}\n",
    "        self.trainig_info={}\n",
    "        \n",
    "    \n",
    "    def parameters_network(self,X,y,arr_hidden_neurons,arr_activation_functions):\n",
    "         (n,m)=X.shape\n",
    "         (o,m)=y.shape\n",
    "         Wight={}\n",
    "         Biase={}\n",
    "         arr_hidden_neurons=[n]+arr_hidden_neurons+[o]\n",
    "         num_of_layerss=len(arr_hidden_neurons)-1\n",
    "         for i in range(num_of_layerss):\n",
    "             wight=np.random.rand(arr_hidden_neurons[i+1],arr_hidden_neurons[i])*0.001\n",
    "             Wight[i]=wight\n",
    "             biase=np.zeros((arr_hidden_neurons[i+1],1))\n",
    "             Biase[i]=biase\n",
    "         self.network_parameters={\"Wight\":Wight,\"Biase\":Biase,\"num_of_layers\":num_of_layerss,\n",
    "                                  \"arr_activation_functions\":arr_activation_functions,\"m\":m};\n",
    "        \n",
    "    def forward_propagate(self,X,y):\n",
    "        Wight=self.network_parameters[\"Wight\"]\n",
    "        Biase=self.network_parameters[\"Biase\"]\n",
    "        num_of_layers=self.network_parameters[\"num_of_layers\"]\n",
    "        arr_activation_functions=self.network_parameters[\"arr_activation_functions\"]\n",
    "        #Z=Wight*X+Baise\n",
    "        #A=activation_Function(Z)\n",
    "        A={}\n",
    "        Z={}\n",
    "        Z[0]=X;\n",
    "        A[0]=X;\n",
    "        for i in range(1,num_of_layers+1):\n",
    "            Z[i]=np.dot(Wight[i-1],A[i-1])+Biase[i-1]\n",
    "            A[i]=activation_Function(Z[i],arr_activation_functions[i-1])\n",
    "        return {\"A\":A,\"Z\":Z}\n",
    "    \n",
    "    \n",
    "    def deltas_allLayer(self,dic_forward,X,y):\n",
    "        Wight=self.network_parameters[\"Wight\"]\n",
    "        num_of_layers=self.network_parameters[\"num_of_layers\"]\n",
    "        arr_activation_functions=self.network_parameters[\"arr_activation_functions\"]\n",
    "        A=dic_forward[\"A\"]\n",
    "        Z=dic_forward[\"Z\"]\n",
    "        delta={}\n",
    "        delta[num_of_layers]=np.multiply(A[num_of_layers]-y,activation_Function(Z[num_of_layers]\n",
    "                                                                        ,arr_activation_functions[num_of_layers-1],True))\n",
    "        for i in reversed(range(1,num_of_layers)):\n",
    "            delta[i]=np.multiply(np.dot(Wight[i].T,delta[i+1]),activation_Function(Z[i]\n",
    "                                                                                   ,name_activation_functions[i-1],True))\n",
    "        return delta\n",
    "    \n",
    "    \n",
    "    def first_drivative_dWight_and_dBiase(self,dic_forward,X,y):\n",
    "        m=self.network_parameters[\"m\"]\n",
    "        num_of_layers=self.network_parameters[\"num_of_layers\"]\n",
    "        A=dic_forward[\"A\"]\n",
    "        delta=self.deltas_allLayer(dic_forward,X,y)\n",
    "        dWight={}\n",
    "        dbiase={}\n",
    "        for i in reversed(range(num_of_layers)):\n",
    "            dWight[i]=np.multiply(1.0/m,np.dot(delta[i+1],A[i].T))\n",
    "            dbiase[i]=1.0/m*np.sum(delta[i+1],1)\n",
    "            dbiase[i]=dbiase[i].reshape((dbiase[i].shape[0],1))\n",
    "        return {\"dWight\":dWight,\"dbiase\":dbiase}\n",
    "    \n",
    "    \n",
    " \n",
    "    \n",
    "    def Error_network(self,X,y,Wight,Biase):\n",
    "        num_of_layers=self.network_parameters[\"num_of_layers\"]\n",
    "        arr_activation_functions=self.network_parameters[\"arr_activation_functions\"]\n",
    "        A_prev=X\n",
    "        A=None\n",
    "        Z=None\n",
    "        for i in range(1,num_of_layers+1):\n",
    "            Z=np.dot(Wight[i-1],A_prev)+Biase[i-1]\n",
    "            A=activation_Function(Z,arr_activation_functions[i-1])        \n",
    "            A_prev=np.double(A)\n",
    "        return y-A\n",
    "    \n",
    "    \n",
    "    def Wight_jacobian(self,X,y,current_layer,first_derivative_dwight):\n",
    "        Wight=copy.deepcopy(self.network_parameters[\"Wight\"])\n",
    "        epsilon=self.network_hyperParameters[\"epsilon\"]\n",
    "        M=self.network_hyperParameters[\"M\"]\n",
    "        m=self.network_parameters[\"m\"]\n",
    "        \n",
    "        cur_Wight=Wight[current_layer]      \n",
    "        P_W=cur_Wight.shape[0]*cur_Wight.shape[1]    \n",
    "        J_W=np.zeros((m,P_W))\n",
    "        \n",
    "        for j in range(P_W):\n",
    "            cur_Wight=unroll(cur_Wight)\n",
    "            cur_Wight[j]=cur_Wight[j]+epsilon\n",
    "            cur_Wight=cur_Wight.reshape(self.network_parameters[\"Wight\"][current_layer].shape)\n",
    "            \n",
    "            A_pos=self.Error_network(X,y,Wight,self.network_parameters[\"Biase\"])\n",
    "            cur_Wight=unroll(cur_Wight)\n",
    "            cur_Wight[j]=cur_Wight[j]-2*epsilon\n",
    "            cur_Wight=cur_Wight.reshape(self.network_parameters[\"Wight\"][current_layer].shape)\n",
    "            \n",
    "            A_neg=self.Error_network(X,y,Wight,self.network_parameters[\"Biase\"])\n",
    "            cur_Wight=unroll(cur_Wight)\n",
    "            cur_Wight[j]=cur_Wight[j]+epsilon\n",
    "            \n",
    "            deltaA=((A_pos-A_neg).T).reshape((A_pos.shape[0],A_pos.shape[1]))\n",
    "            deltaA=np.sum(deltaA,0)\n",
    "            J_W[:,j]=deltaA/(2*epsilon)\n",
    "            \n",
    "        I=np.identity(J_W.shape[1])\n",
    "        cur_Wight=cur_Wight.reshape(self.network_parameters[\"Wight\"][current_layer].shape)\n",
    "        dWight=np.dot(np.linalg.inv(np.dot(J_W.T,J_W)+M*I),first_derivative_dwight.reshape((P_W,1)))\n",
    "        dWight=np.sum(dWight,1)\n",
    "        dWight.reshape((Wight[current_layer].shape))\n",
    "        return dWight\n",
    "    \n",
    "    \n",
    "\n",
    "    def bias_jacopian(self,X,y,current_layer,first_derivative_dbiase): \n",
    "        Biase=copy.deepcopy(self.network_parameters[\"Biase\"])\n",
    "        epsilon=self.network_hyperParameters[\"epsilon\"]\n",
    "        M=self.network_hyperParameters[\"M\"]\n",
    "        m=self.network_parameters[\"m\"]\n",
    "        \n",
    "        cur_Biase=Biase[current_layer]\n",
    "        P_b=cur_Biase.shape[0]*cur_Biase.shape[1]\n",
    "        J_b=np.zeros((m,P_b))\n",
    "        \n",
    "        for j in range(P_b):\n",
    "            cur_Biase=unroll(cur_Biase)\n",
    "            cur_Biase[j]=cur_Biase[j]+epsilon\n",
    "            cur_Biase=cur_Biase.reshape(self.network_parameters[\"Biase\"][current_layer].shape)\n",
    "            \n",
    "            A_pos=self.Error_network(X,y,self.network_parameters[\"Wight\"],Biase)\n",
    "            cur_Biase=unroll(cur_Biase)\n",
    "            cur_Biase[j]=cur_Biase[j]-2*epsilon\n",
    "            cur_Biase=cur_Biase.reshape(self.network_parameters[\"Biase\"][current_layer].shape)\n",
    "            \n",
    "            A_neg=self.Error_network(X,y,self.network_parameters[\"Wight\"],Biase)\n",
    "            cur_Biase=unroll(cur_Biase)\n",
    "            cur_Biase[j]=cur_Biase[j]+epsilon\n",
    "            \n",
    "            deltaA=((A_pos-A_neg).T).reshape((A_pos.shape[0],A_pos.shape[1]))\n",
    "            deltaA=np.sum(deltaA,0)\n",
    "            J_b[:,j]=deltaA/(2*epsilon)\n",
    "            \n",
    "        I=np.identity(J_b.shape[1])\n",
    "        cur_Biase=cur_Biase.reshape(self.network_parameters[\"Biase\"][current_layer].shape)\n",
    "        dbiase=np.dot(np.linalg.inv(np.dot(J_b.T,J_b)+M*I),first_derivative_dbiase)\n",
    "        dbiase=np.sum(dbiase,1)\n",
    "        dbiase.reshape((Biase[current_layer].shape))\n",
    "        return dbiase\n",
    "\n",
    "    def set_training_info(self,training_algorithm,epochs,problem_type,cost_function):\n",
    "        if(not \"batch_size\" in self.trainig_info):\n",
    "            self.trainig_info[\"batch_size\"]=0\n",
    "        self.trainig_info={\"training_algorithm\":training_algorithm,\n",
    "                           \"epochs\":epochs,\n",
    "                           \"problem_type\":problem_type,\n",
    "                           \"cost_function\":cost_function,\n",
    "                           \"batch_size\":self.trainig_info[\"batch_size\"]}\n",
    "        \n",
    "        \n",
    "    def set_batch_size(self,batch_type,batch_size=None):\n",
    "        if(batch_type==\"full\"):\n",
    "            batch_size=self.parameters[\"m\"]\n",
    "        elif(batch_type==\"stochastic\"):\n",
    "            batch_size=1\n",
    "        self.trainig_info[\"batch_size\"]=batch_size\n",
    "    \n",
    "    \n",
    "    \n",
    "    def set_hyperparameters(self,network_hyperParameters):\n",
    "        self.network_hyperParameters=network_hyperParameters\n",
    "        \n",
    "        \n",
    "    def divide_batches(self,X,y,batch_size):\n",
    "        training_set_X={}\n",
    "        training_set_y={}\n",
    "        m=X.shape[1]\n",
    "        start=0\n",
    "        batch_count=int(np.ceil(m/batch_size))\n",
    "        for i in range(batch_count):\n",
    "            end=int(min(m,start+batch_size))\n",
    "            training_set_X[i]=X[:,range(start,end)]\n",
    "            training_set_y[i]=y[:,range(start,end)]\n",
    "            start=int(start+batch_size)\n",
    "        return training_set_X,training_set_y\n",
    "    \n",
    "    \n",
    "    def shuffle_batches(self,training_set_X,trainig_set_y):\n",
    "        batch_count=len(training_set_X)\n",
    "        indecies=np.array(list(range(batch_count)))\n",
    "        np.random.shuffle(indecies)\n",
    "    \n",
    "        trainig_set_X_shuffled=[(training_set_X[index]) for index in indecies]\n",
    "        trainig_set_y_shuffled=[(trainig_set_y[index]) for index in indecies]\n",
    "    \n",
    "        return trainig_set_X_shuffled,trainig_set_y_shuffled\n",
    "\n",
    "    \n",
    "    \n",
    "    \n",
    "    def levenberg(self,X,y):\n",
    "        num_of_layers=self.network_parameters[\"num_of_layers\"]\n",
    "        dic_forward=self.forward_propagate(X,y)\n",
    "        gradient=self.first_drivative_dWight_and_dBiase(dic_forward,X,y)\n",
    "    \n",
    "        first_derivative_dwight=gradient[\"dWight\"]\n",
    "        first_derivative_dbiase=gradient[\"dbiase\"]\n",
    "    \n",
    "        dBiase={}\n",
    "        dWight={}\n",
    "        for i in range(num_of_layers):\n",
    "            dWight[i]=self.Wight_jacobian(X,y,i,first_derivative_dwight[i]).reshape(self.network_parameters[\"Wight\"][i].shape)\n",
    "            dBiase[i]=self.bias_jacopian(X,y,i,first_derivative_dbiase[i]).reshape(self.network_parameters[\"Biase\"][i].shape)\n",
    "        return {\"dWight\":dWight,\"dBiase\":dBiase}\n",
    "    \n",
    "    \n",
    "    \n",
    "    def levenberg_model(self,X,y):\n",
    "        #info\n",
    "        epochs=self.trainig_info[\"epochs\"]\n",
    "        num_of_layers=self.network_parameters[\"num_of_layers\"]\n",
    "        learning_rate=self.network_hyperParameters[\"learning_rate\"]\n",
    "        M=self.network_hyperParameters[\"M\"]\n",
    "        Beta=self.network_hyperParameters[\"Beta\"]\n",
    "        cost=np.zeros(epochs)\n",
    "        Wight=self.network_parameters[\"Wight\"]\n",
    "        Biase=self.network_parameters[\"Biase\"]\n",
    "        m=self.network_parameters[\"m\"]\n",
    "        cost_function=self.trainig_info[\"cost_function\"]\n",
    "        problem_type=self.trainig_info[\"problem_type\"]\n",
    "        \n",
    "        for i in range(epochs):\n",
    "            A=self.forward_propagate(X,y)[\"A\"]\n",
    "            y_pred=A[num_of_layers]    \n",
    "            cost[i]=cost_functions(y,y_pred,cost_function)\n",
    "            gradient=self.levenberg(X,y)\n",
    "            \n",
    "            for i in range(num_of_layers):\n",
    "                Wight[i]=Wight[i]-learning_rate*gradient[\"dWight\"][i]\n",
    "                Biase[i]=Biase[i]-learning_rate*gradient[\"dBiase\"][i]\n",
    "            self.network_parameters[\"Wight\"]=Wight\n",
    "            self.network_parameters[\"Biase\"]=Biase\n",
    "   \n",
    "            if(cost[i]>=cost[i-1] and M<1):\n",
    "                M=M/Beta\n",
    "            elif(cost[i]<cost[i-1] and M>1e-9):\n",
    "                M=M*Beta\n",
    "        if(problem_type!=\"Regression\"):\n",
    "              for k in range(m):\n",
    "                if(y_pred[0][k]>=0.6):\n",
    "                    y_pred[0][k]=1\n",
    "                else:\n",
    "                    y_pred[0][k]=0\n",
    "              acc=calculate_accuracy(y,y_pred,problem_type)\n",
    "              print(\" calculate_accuracy :%.2f\"%acc)\n",
    "        else:\n",
    "            print(cost[epochs-1])\n",
    "        plt.plot(range(epochs),cost)\n",
    "        \n",
    "        \n",
    "        \n",
    "    def train(self,X,y,trainig_algorithm,problem_type,epochs,cost_function):\n",
    "        self.set_training_info(trainig_algorithm,epochs,problem_type,cost_function)        \n",
    "        if(trainig_algorithm==\"levenberg\"):\n",
    "            self.levenberg_model(X,y)\n",
    "        "
   ]
  },
  {
   "cell_type": "code",
   "execution_count": 24,
   "metadata": {},
   "outputs": [],
   "source": [
    "network=neural_network()\n",
    "network.parameters_network(X,y,[],[\"sigmoid\"])\n",
    "dic_forward=net.forward_propagate(X,y)\n",
    "\n",
    "net.set_hyperparameters({\"learning_rate\":0.05})\n",
    "net.set_batch_size(\"full\")\n",
    "\n"
   ]
  },
  {
   "cell_type": "code",
   "execution_count": null,
   "metadata": {
    "scrolled": true
   },
   "outputs": [],
   "source": [
    "\n",
    "network.set_hyperparameters({\"learning_rate\":0.13,\"epsilon\":0.1,\"M\":0.00001,\"Beta\":0.0001})\n",
    "network.train(X,y,\"levenberg\",\"Classfication\",5000,\"cross_entropy_cost\")\n",
    "\n"
   ]
  },
  {
   "cell_type": "code",
   "execution_count": 21,
   "metadata": {},
   "outputs": [
    {
     "name": "stdout",
     "output_type": "stream",
     "text": [
      "0.5441088919778738\n"
     ]
    },
    {
     "data": {
      "image/png": "[encoded data removed]",
      "text/plain": [
       "<Figure size 432x288 with 1 Axes>"
      ]
     },
     "metadata": {
      "needs_background": "light"
     },
     "output_type": "display_data"
    }
   ],
   "source": [
    "network.set_hyperparameters({\"learning_rate\":0.1,\"epsilon\":0.1,\"M\":0.00001,\"Beta\":0.0001})\n",
    "network.train(X,y,\"levenberg\",\"Regression\",5000,\"cross_entropy_cost\")"
   ]
  },
  {
   "cell_type": "code",
   "execution_count": 22,
   "metadata": {},
   "outputs": [
    {
     "name": "stdout",
     "output_type": "stream",
     "text": [
      " calculate_accuracy :89.00\n"
     ]
    },
    {
     "data": {
      "image/png": "[encoded data removed]",
      "text/plain": [
       "<Figure size 432x288 with 1 Axes>"
      ]
     },
     "metadata": {
      "needs_background": "light"
     },
     "output_type": "display_data"
    }
   ],
   "source": [
    "network.set_hyperparameters({\"learning_rate\":0.1,\"epsilon\":0.1,\"M\":0.00001,\"Beta\":0.0001})\n",
    "network.train(X,y,\"levenberg\",\"Classfication\",5000,\"mse\")"
   ]
  },
  {
   "cell_type": "code",
   "execution_count": null,
   "metadata": {},
   "outputs": [],
   "source": []
  },
  {
   "cell_type": "code",
   "execution_count": null,
   "metadata": {},
   "outputs": [],
   "source": []
  }
 ],
 "metadata": {
  "kernelspec": {
   "display_name": "Python 3",
   "language": "python",
   "name": "python3"
  },
  "language_info": {
   "codemirror_mode": {
    "name": "ipython",
    "version": 3
   },
   "file_extension": ".py",
   "mimetype": "text/x-python",
   "name": "python",
   "nbconvert_exporter": "python",
   "pygments_lexer": "ipython3",
   "version": "3.8.8"
  }
 },
 "nbformat": 4,
 "nbformat_minor": 2
}
